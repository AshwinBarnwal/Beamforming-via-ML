{
 "cells": [
  {
   "cell_type": "markdown",
   "id": "84bdb111",
   "metadata": {},
   "source": [
    "Implementing a basic LCMV beamformer"
   ]
  },
  {
   "cell_type": "code",
   "execution_count": null,
   "id": "954fa0a6",
   "metadata": {
    "vscode": {
     "languageId": "plaintext"
    }
   },
   "outputs": [],
   "source": [
    "import numpy as np\n",
    "import soundfile as sf\n",
    "from scipy.signal import stft, istft, windows\n",
    "\n",
    "audio_path = '/kaggle/input/audios/audio_dataset/samsung_non_overlapping/02-25.12-20-54-168__WL_BH_d1m_Left_TC5.hdf/02-25.12-20-54-168__WL_BH_d1m_Left_TC5.wav'\n",
    "audio, fs = sf.read(audio_path)  # audio shape: (n_samples, 4)\n",
    "assert fs == 16000, f\"Expected sampling rate 16000, but got {fs}\"\n",
    "assert audio.ndim == 2 and audio.shape[1] == 4, \"Audio must be 4-channel\"\n",
    "\n",
    "audio = np.asarray(audio, dtype=np.float32)\n",
    "print(f\"Loaded audio with shape {audio.shape}, fs = {fs}\")"
   ]
  },
  {
   "cell_type": "code",
   "execution_count": null,
   "id": "2e28ad2a",
   "metadata": {
    "vscode": {
     "languageId": "plaintext"
    }
   },
   "outputs": [],
   "source": [
    "mic_positions = np.array([\n",
    "    [-0.05,  0.00,  0.00],  # Mic 1 (right side, x negative is right)\n",
    "    [ 0.05,  0.00,  0.00],  # Mic 2 (left side)\n",
    "    [-0.08,  0.045, 0.04],  # Mic 3 (upper-right-backwards)\n",
    "    [ 0.08,  0.045, 0.04],  # Mic 4 (upper-left-backwards)\n",
    "], dtype=np.float32)\n",
    "\n",
    "# Near-field source position relative to array origin (mouth) in this coordinate system\n",
    "# User specified source at [0, -0.06, 0]: 6 cm downward from array center\n",
    "source_pos = np.array([0.0, -0.06, 0.0], dtype=np.float32)\n",
    "\n",
    "# Far-field bystander DoA: specify azimuth angle in degrees in the horizontal plane (x-z plane)\n",
    "# Azimuth 0° = directly in front (forward, which is -z direction)\n",
    "# Positive azimuth = rotate toward left (positive x), negative = toward right\n",
    "doa_noise_deg = 90.0  # example: 45° to the left-front quadrant\n",
    "az = np.deg2rad(doa_noise_deg)\n",
    "# Horizontal plane unit vector: [x, y=0, z]\n",
    "# Front is -z; so:\n",
    "doa_noise_vec = np.array([np.sin(az), 0.0, -np.cos(az)], dtype=np.float32)\n",
    "# Normalize (should already be unit length)\n",
    "doa_noise_vec /= np.linalg.norm(doa_noise_vec)\n",
    "\n",
    "print(f\"Mic positions:\\n{mic_positions}\")\n",
    "print(f\"Source position: {source_pos}\")\n",
    "print(f\"Noise DoA vector (az={doa_noise_deg}°): {doa_noise_vec}\")\n",
    "\n",
    "# STFT parameters\n",
    "n_fft = 512\n",
    "hop_length = n_fft // 2\n",
    "window = windows.hann(n_fft, sym=False)"
   ]
  },
  {
   "cell_type": "code",
   "execution_count": null,
   "id": "fd020cfe",
   "metadata": {
    "vscode": {
     "languageId": "plaintext"
    }
   },
   "outputs": [],
   "source": [
    "c = 343.0  # speed of sound in m/s\n",
    "\n",
    "def steering_vector_nearfield(mic_positions, source_pos, freqs, speed_of_sound=343.0, include_amplitude=False):\n",
    "    \"\"\"\n",
    "    Compute near-field steering vector for given source position.\n",
    "    mic_positions: (M,3)\n",
    "    source_pos: (3,)\n",
    "    freqs: array of frequencies (Hz), shape (F,)\n",
    "    Returns: steering matrix of shape (F, M), complex\n",
    "    \"\"\"\n",
    "    diffs = mic_positions - source_pos[None, :]  # (M,3)\n",
    "    dists = np.linalg.norm(diffs, axis=1)       # (M,)\n",
    "    # Avoid division by zero\n",
    "    dists = np.maximum(dists, 1e-6)\n",
    "    F = len(freqs)\n",
    "    M = mic_positions.shape[0]\n",
    "    a = np.zeros((F, M), dtype=np.complex64)\n",
    "    for idx, f in enumerate(freqs):\n",
    "        phase = np.exp(-1j * 2 * np.pi * f * dists / speed_of_sound)\n",
    "        if include_amplitude:\n",
    "            a[idx, :] = phase / dists\n",
    "        else:\n",
    "            a[idx, :] = phase\n",
    "    return a  # shape (F, M)\n",
    "\n",
    "def steering_vector_farfield(mic_positions, doa_vec, freqs, speed_of_sound=343.0):\n",
    "    \"\"\"\n",
    "    Compute far-field steering vector for given DoA unit vector.\n",
    "    mic_positions: (M,3)\n",
    "    doa_vec: unit vector (3,)\n",
    "    freqs: array of frequencies (Hz), shape (F,)\n",
    "    Returns: steering matrix of shape (F, M), complex\n",
    "    \"\"\"\n",
    "    proj = mic_positions.dot(doa_vec)  # (M,)\n",
    "    F = len(freqs)\n",
    "    M = mic_positions.shape[0]\n",
    "    a = np.zeros((F, M), dtype=np.complex64)\n",
    "    for idx, f in enumerate(freqs):\n",
    "        a[idx, :] = np.exp(-1j * 2 * np.pi * f * proj / speed_of_sound)\n",
    "    return a  # shape (F, M)"
   ]
  },
  {
   "cell_type": "code",
   "execution_count": null,
   "id": "273f377a",
   "metadata": {
    "vscode": {
     "languageId": "plaintext"
    }
   },
   "outputs": [],
   "source": [
    "stfts = []\n",
    "for ch in range(4):\n",
    "    f, t_frames, Zxx = stft(audio[:, ch], fs=fs, window=window,\n",
    "                            nperseg=n_fft, noverlap=n_fft-hop_length,\n",
    "                            boundary=None, padded=False)\n",
    "    stfts.append(Zxx)  # shape (F, T)\n",
    "# Stack to shape (F, T, M)\n",
    "stfts = np.stack(stfts, axis=2)\n",
    "F_bins, T_frames, M = stfts.shape\n",
    "assert M == 4\n",
    "print(f\"STFT computed: freq bins={F_bins}, time frames={T_frames}, channels={M}\")\n",
    "freqs = f  # frequencies for STFT bins"
   ]
  },
  {
   "cell_type": "code",
   "execution_count": null,
   "id": "bf3132d7",
   "metadata": {
    "vscode": {
     "languageId": "plaintext"
    }
   },
   "outputs": [],
   "source": [
    "# Cell 5: Compute Steering Vectors for All Frequency Bins\n",
    "# Near-field steering (fixed source)\n",
    "a_s = steering_vector_nearfield(mic_positions, source_pos, freqs, speed_of_sound=c, include_amplitude=False)  # shape (F, M)\n",
    "# Far-field steering for noise (fixed DoA example; recompute if DoA changes)\n",
    "a_n = steering_vector_farfield(mic_positions, doa_noise_vec, freqs, speed_of_sound=c)  # shape (F, M)"
   ]
  },
  {
   "cell_type": "code",
   "execution_count": null,
   "id": "86f30642",
   "metadata": {
    "vscode": {
     "languageId": "plaintext"
    }
   },
   "outputs": [],
   "source": [
    "W = np.zeros((F_bins, M), dtype=np.complex64)\n",
    "eps = 1e-6\n",
    "for k in range(F_bins):\n",
    "    a_s_k = a_s[k, :]  # (M,)\n",
    "    a_n_k = a_n[k, :]  # (M,)\n",
    "    # Constraint matrix C: shape (M, 2)\n",
    "    C = np.stack([a_s_k, a_n_k], axis=1)  # (M,2)\n",
    "    CHC = np.conj(C.T) @ C  # (2,2)\n",
    "    CHC += eps * np.eye(2)\n",
    "    try:\n",
    "        inv_CHC = np.linalg.inv(CHC)\n",
    "    except np.linalg.LinAlgError:\n",
    "        inv_CHC = np.linalg.pinv(CHC)\n",
    "    g = np.array([1.0, 0.0], dtype=np.complex64)\n",
    "    w0 = C @ (inv_CHC @ g)  # (M,)\n",
    "    denom = np.vdot(w0, a_s_k)\n",
    "    if np.abs(denom) < 1e-6:\n",
    "        w = w0\n",
    "    else:\n",
    "        w = w0 / denom\n",
    "    W[k, :] = w\n",
    "print(\"Computed null-steering weights for all frequency bins.\")\n"
   ]
  },
  {
   "cell_type": "code",
   "execution_count": null,
   "id": "ab510d3a",
   "metadata": {
    "vscode": {
     "languageId": "plaintext"
    }
   },
   "outputs": [],
   "source": [
    "Y = np.zeros((F_bins, T_frames), dtype=np.complex64)\n",
    "for t_idx in range(T_frames):\n",
    "    X_ft = stfts[:, t_idx, :]  # shape (F, M)\n",
    "    Y[:, t_idx] = np.sum(np.conj(W) * X_ft, axis=1)\n",
    "_, output = istft(Y, fs=fs, window=window,\n",
    "                 nperseg=n_fft, noverlap=n_fft-hop_length,\n",
    "                 input_onesided=True, boundary=None)\n",
    "# Trim or pad to match original length\n",
    "output = output[:audio.shape[0]]\n",
    "print(f\"Beamformed output shape: {output.shape}\")"
   ]
  },
  {
   "cell_type": "code",
   "execution_count": null,
   "id": "1c1e3dc7",
   "metadata": {
    "vscode": {
     "languageId": "plaintext"
    }
   },
   "outputs": [],
   "source": [
    "output_path = 'beamformed_output.wav'\n",
    "max_val = np.max(np.abs(output)) + 1e-9\n",
    "if max_val > 1.0:\n",
    "    output_norm = output / max_val\n",
    "else:\n",
    "    output_norm = output\n",
    "sf.write(output_path, output_norm, fs)\n",
    "print(f\"Beamformed output written to {output_path}\")"
   ]
  }
 ],
 "metadata": {
  "language_info": {
   "name": "python"
  }
 },
 "nbformat": 4,
 "nbformat_minor": 5
}
